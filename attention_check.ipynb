{
 "cells": [
  {
   "cell_type": "code",
   "execution_count": 1,
   "id": "251de0d5",
   "metadata": {},
   "outputs": [
    {
     "name": "stdout",
     "output_type": "stream",
     "text": [
      "🦥 Unsloth: Will patch your computer to enable 2x faster free finetuning.\n",
      "🦥 Unsloth Zoo will now patch everything to make training faster!\n",
      "INFO 05-03 13:35:49 [__init__.py:239] Automatically detected platform cuda.\n",
      "==((====))==  Unsloth 2025.4.3: Fast Gemma3 patching. Transformers: 4.51.3. vLLM: 0.8.2.\n",
      "   \\\\   /|    NVIDIA GeForce RTX 4090. Num GPUs = 1. Max memory: 23.642 GB. Platform: Linux.\n",
      "O^O/ \\_/ \\    Torch: 2.6.0+cu124. CUDA: 8.9. CUDA Toolkit: 12.4. Triton: 3.2.0\n",
      "\\        /    Bfloat16 = TRUE. FA [Xformers = 0.0.29.post2. FA2 = True]\n",
      " \"-____-\"     Free license: http://github.com/unslothai/unsloth\n",
      "Unsloth: Fast downloading is enabled - ignore downloading bars which are red colored!\n"
     ]
    },
    {
     "name": "stderr",
     "output_type": "stream",
     "text": [
      "Using a slow image processor as `use_fast` is unset and a slow processor was saved with this model. `use_fast=True` will be the default behavior in v4.52, even if the model was saved with a slow processor. This will result in minor differences in outputs. You'll still be able to use a slow processor with `use_fast=False`.\n"
     ]
    }
   ],
   "source": [
    "import torch\n",
    "from torch.nn.utils import clip_grad_value_\n",
    "import matplotlib.pyplot as plt\n",
    "# from transformers.models.gemma3.modeling_gemma3 import Gemma3TextScaledWordEmbedding\n",
    "from functions import *\n",
    "model, tokenizer = FastModel.from_pretrained(\n",
    "    model_name = \"unsloth/gemma-3-4b-pt-unsloth-bnb-4bit\",\n",
    "    max_seq_length = 8192, # Choose any for long context!\n",
    "    load_in_4bit = True,\n",
    "    resize_model_vocab=24,\n",
    ")"
   ]
  },
  {
   "cell_type": "code",
   "execution_count": 2,
   "id": "1f39bea3",
   "metadata": {},
   "outputs": [
    {
     "data": {
      "text/plain": [
       "<All keys matched successfully>"
      ]
     },
     "execution_count": 2,
     "metadata": {},
     "output_type": "execute_result"
    }
   ],
   "source": [
    "model.config.image_token_index = 16 # new image token\n",
    "model.language_model.lm_head.weight.requires_grad_(True);\n",
    "model.language_model.model.embed_tokens.padding_idx = None\n",
    "# model.language_model.lm_head.load_state_dict(torch.load(\"/home/zhenlan/Desktop/Projects/ARC2/Model/gemma24.pth\"))\n",
    "model.language_model.lm_head.load_state_dict(torch.load(\"../../Model/lm_heads_weights_VLM2.pth\"))"
   ]
  },
  {
   "cell_type": "code",
   "execution_count": 3,
   "id": "227139ba",
   "metadata": {},
   "outputs": [],
   "source": [
    "import json\n",
    "output_path = '/home/zhenlan/Desktop/Projects/ARC2/Data/ARC-AGI-2-main/combined_data.json'\n",
    "with open(output_path, 'r') as f:\n",
    "    data = json.load(f)"
   ]
  },
  {
   "cell_type": "code",
   "execution_count": 4,
   "id": "a3dc8189",
   "metadata": {},
   "outputs": [],
   "source": [
    "model = PeftModel.from_pretrained(model, \"../../Model/merged_model_VLM2\", is_trainable=True)"
   ]
  },
  {
   "cell_type": "code",
   "execution_count": 5,
   "id": "c67a5ee3",
   "metadata": {},
   "outputs": [],
   "source": [
    "inputs_f, y_f = next(iter(data_gen_VLM(data, False, tokenizer, 3, False)))"
   ]
  },
  {
   "cell_type": "code",
   "execution_count": 6,
   "id": "c7ba3c38",
   "metadata": {},
   "outputs": [],
   "source": [
    "# hack to get mask back:\n",
    "# self.causal_mask = causal_mask in Gemma3TextModel line 691\n",
    "model.eval();\n",
    "with torch.no_grad():\n",
    "    with torch.amp.autocast(device_type='cuda', dtype=torch.bfloat16):\n",
    "        masks = model(**inputs_f)"
   ]
  },
  {
   "cell_type": "code",
   "execution_count": 7,
   "id": "bfe543e0",
   "metadata": {},
   "outputs": [],
   "source": [
    "causal_mask = model.base_model.language_model.model.causal_mask"
   ]
  },
  {
   "cell_type": "code",
   "execution_count": 8,
   "id": "2bd62466",
   "metadata": {},
   "outputs": [
    {
     "data": {
      "text/plain": [
       "(torch.Size([1, 1, 4758, 4758]),\n",
       " torch.Size([4758]),\n",
       " torch.Size([1, 1, 4758, 4758]))"
      ]
     },
     "execution_count": 8,
     "metadata": {},
     "output_type": "execute_result"
    }
   ],
   "source": [
    "causal_mask.shape,inputs_f['input_ids'][0].shape, inputs_f['attention_mask'].shape"
   ]
  },
  {
   "cell_type": "code",
   "execution_count": 26,
   "id": "871eeb3f",
   "metadata": {},
   "outputs": [
    {
     "data": {
      "text/plain": [
       "<matplotlib.image.AxesImage at 0x795e31f6bd10>"
      ]
     },
     "execution_count": 26,
     "metadata": {},
     "output_type": "execute_result"
    },
    {
     "data": {
      "image/png": "[encoded data removed]",
      "text/plain": [
       "<Figure size 640x480 with 1 Axes>"
      ]
     },
     "metadata": {},
     "output_type": "display_data"
    }
   ],
   "source": [
    "plt.imshow(causal_mask[0,0].float().cpu().numpy(), cmap='hot', interpolation='nearest')"
   ]
  },
  {
   "cell_type": "code",
   "execution_count": 28,
   "id": "c375d35a",
   "metadata": {},
   "outputs": [
    {
     "data": {
      "text/plain": [
       "tensor([[ 0.0000e+00, -3.3895e+38, -3.3895e+38,  ..., -3.3895e+38,\n",
       "         -3.3895e+38, -3.3895e+38],\n",
       "        [ 0.0000e+00,  0.0000e+00, -3.3895e+38,  ..., -3.3895e+38,\n",
       "         -3.3895e+38, -3.3895e+38],\n",
       "        [ 0.0000e+00,  0.0000e+00,  0.0000e+00,  ..., -3.3895e+38,\n",
       "         -3.3895e+38, -3.3895e+38],\n",
       "        ...,\n",
       "        [ 0.0000e+00,  0.0000e+00,  0.0000e+00,  ...,  0.0000e+00,\n",
       "         -3.3895e+38, -3.3895e+38],\n",
       "        [ 0.0000e+00,  0.0000e+00,  0.0000e+00,  ...,  0.0000e+00,\n",
       "          0.0000e+00, -3.3895e+38],\n",
       "        [ 0.0000e+00,  0.0000e+00,  0.0000e+00,  ...,  0.0000e+00,\n",
       "          0.0000e+00,  0.0000e+00]], device='cuda:0', dtype=torch.bfloat16)"
      ]
     },
     "execution_count": 28,
     "metadata": {},
     "output_type": "execute_result"
    }
   ],
   "source": [
    "causal_mask[0,0]"
   ]
  },
  {
   "cell_type": "code",
   "execution_count": 33,
   "id": "d6c393ea",
   "metadata": {},
   "outputs": [],
   "source": [
    "import numpy as np\n",
    "\n",
    "def create_attention_mask(length: int) -> np.ndarray:\n",
    "  \"\"\"\n",
    "  Creates a square attention mask for a sequence of a given length.\n",
    "\n",
    "  The mask has the following properties:\n",
    "  - Lower triangular elements (below the main diagonal) are 0.\n",
    "  - Diagonal elements are 0.\n",
    "  - Upper triangular elements (above the main diagonal) are -infinity.\n",
    "\n",
    "  This type of mask is often used in causal attention mechanisms (like in decoder-only\n",
    "  transformers) where a position should only attend to previous positions and itself,\n",
    "  but here we explicitly zero out the diagonal as well, meaning a position cannot\n",
    "  attend to itself either, only strictly previous positions. If self-attention is\n",
    "  desired, the diagonal should also be 0.\n",
    "\n",
    "  Args:\n",
    "    length: The sequence length, which determines the dimensions of the mask (length x length).\n",
    "\n",
    "  Returns:\n",
    "    A numpy array of shape (length, length) with the specified mask values (float dtype).\n",
    "  \"\"\"\n",
    "  # Start with a mask of all zeros. This covers the diagonal and lower triangle.\n",
    "  # Use a float dtype to accommodate -infinity.\n",
    "  mask = np.zeros((length, length), dtype=np.float32)\n",
    "\n",
    "  # Get the indices for the upper triangle, *excluding* the main diagonal (k=1).\n",
    "  # For i < j\n",
    "  upper_indices = np.triu_indices(length, k=1)\n",
    "\n",
    "  # Set the upper triangular part to negative infinity.\n",
    "  mask[upper_indices] = -np.inf\n",
    "\n",
    "  return mask"
   ]
  },
  {
   "cell_type": "code",
   "execution_count": null,
   "id": "3a0655a3",
   "metadata": {},
   "outputs": [],
   "source": [
    "# lower triangular and diagonal zero and upper triangular -inf\n",
    "inputs_f['attention_mask'] = torch.tensor(create_attention_mask(inputs_f['input_ids'].shape[1]), device=inputs_f['input_ids'].device)\\\n",
    "                                    .unsqueeze(0).unsqueeze(0)"
   ]
  },
  {
   "cell_type": "code",
   "execution_count": 42,
   "id": "db2b78b5",
   "metadata": {},
   "outputs": [],
   "source": [
    "# hack to get mask back:\n",
    "# self.causal_mask = causal_mask in Gemma3TextModel line 691\n",
    "model.eval();\n",
    "with torch.no_grad():\n",
    "    with torch.amp.autocast(device_type='cuda', dtype=torch.bfloat16):\n",
    "        masks = model(**inputs_f)"
   ]
  },
  {
   "cell_type": "code",
   "execution_count": 43,
   "id": "e13e9186",
   "metadata": {},
   "outputs": [],
   "source": [
    "causal_mask = model.base_model.language_model.model.causal_mask"
   ]
  },
  {
   "cell_type": "code",
   "execution_count": 46,
   "id": "62991d7d",
   "metadata": {},
   "outputs": [
    {
     "data": {
      "text/plain": [
       "torch.float32"
      ]
     },
     "execution_count": 46,
     "metadata": {},
     "output_type": "execute_result"
    }
   ],
   "source": [
    "causal_mask[0,0].dtype"
   ]
  },
  {
   "cell_type": "code",
   "execution_count": 47,
   "id": "735b36bb",
   "metadata": {},
   "outputs": [
    {
     "data": {
      "text/plain": [
       "tensor([[0., -inf, -inf,  ..., -inf, -inf, -inf],\n",
       "        [0., 0., -inf,  ..., -inf, -inf, -inf],\n",
       "        [0., 0., 0.,  ..., -inf, -inf, -inf],\n",
       "        ...,\n",
       "        [0., 0., 0.,  ..., 0., -inf, -inf],\n",
       "        [0., 0., 0.,  ..., 0., 0., -inf],\n",
       "        [0., 0., 0.,  ..., 0., 0., 0.]], device='cuda:0')"
      ]
     },
     "execution_count": 47,
     "metadata": {},
     "output_type": "execute_result"
    }
   ],
   "source": [
    "causal_mask[0,0]"
   ]
  },
  {
   "cell_type": "code",
   "execution_count": 44,
   "id": "d6467b6c",
   "metadata": {},
   "outputs": [
    {
     "data": {
      "text/plain": [
       "<matplotlib.image.AxesImage at 0x795e31f69460>"
      ]
     },
     "execution_count": 44,
     "metadata": {},
     "output_type": "execute_result"
    },
    {
     "data": {
      "image/png": "[encoded data removed]",
      "text/plain": [
       "<Figure size 640x480 with 1 Axes>"
      ]
     },
     "metadata": {},
     "output_type": "display_data"
    }
   ],
   "source": [
    "plt.imshow(causal_mask[0,0].float().cpu().numpy(), cmap='hot', interpolation='nearest')"
   ]
  },
  {
   "cell_type": "code",
   "execution_count": null,
   "id": "6c386729",
   "metadata": {},
   "outputs": [],
   "source": []
  }
 ],
 "metadata": {
  "kernelspec": {
   "display_name": "base",
   "language": "python",
   "name": "python3"
  },
  "language_info": {
   "codemirror_mode": {
    "name": "ipython",
    "version": 3
   },
   "file_extension": ".py",
   "mimetype": "text/x-python",
   "name": "python",
   "nbconvert_exporter": "python",
   "pygments_lexer": "ipython3",
   "version": "3.12.7"
  }
 },
 "nbformat": 4,
 "nbformat_minor": 5
}
