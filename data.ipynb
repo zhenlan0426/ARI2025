{
 "cells": [
  {
   "cell_type": "code",
   "execution_count": 1,
   "metadata": {},
   "outputs": [],
   "source": [
    "import json"
   ]
  },
  {
   "cell_type": "code",
   "execution_count": null,
   "metadata": {},
   "outputs": [],
   "source": [
    "import json\n",
    "from pathlib import Path\n",
    "\n",
    "def combine_train_test_from_file(json_file_path):\n",
    "    \"\"\"Process a single JSON file and return its combined data.\"\"\"\n",
    "    with open(json_file_path, 'r') as f:\n",
    "        data = json.load(f)\n",
    "    \n",
    "    combined = [(item['input'], item['output']) for item in data['train'] + data['test']]\n",
    "    \n",
    "    return combined\n",
    "\n",
    "def process_all_json_files(folder_path):\n",
    "    \"\"\"Process all JSON files in the given folder.\"\"\"\n",
    "    master_list = []\n",
    "    \n",
    "    # Get all JSON files in the folder\n",
    "    json_files = list(Path(folder_path).glob('*.json'))\n",
    "    \n",
    "    # Process each file\n",
    "    for json_file in json_files:\n",
    "        file_data = combine_train_test_from_file(json_file)\n",
    "        master_list.append(file_data)\n",
    "        print(f\"Processed {json_file.name}: {len(file_data)} examples\")\n",
    "    \n",
    "    return master_list\n",
    "\n",
    "# Example usage\n",
    "train_path = '/home/zhenlan/Desktop/Projects/ARC2/Data/ARC-AGI-2-main/training'\n",
    "test_path = '/home/zhenlan/Desktop/Projects/ARC2/Data/ARC-AGI-2-main/evaluation'\n",
    "train_data = process_all_json_files(train_path)\n",
    "test_data = process_all_json_files(test_path)\n",
    "\n",
    "# save train_data and test_data to a file\n",
    "output_path = '/home/zhenlan/Desktop/Projects/ARC2/Data/ARC-AGI-2-main/combined_data.json'\n",
    "with open(output_path, 'w') as f:\n",
    "    json.dump({'train': train_data, 'test': test_data}, f)"
   ]
  },
  {
   "cell_type": "code",
   "execution_count": null,
   "metadata": {},
   "outputs": [],
   "source": [
    "# combined_data has the structure:\n",
    "# {'train': [[(input1, output1),(input2, output2),...], # task 1\n",
    "#            [(input1, output1),(input2, output2),...], # task 2\n",
    "#               ...\n",
    "#            [(input1, output1),(input2, output2),...]], # task n\n",
    "\n",
    "#  'test': [[(input1, output1),(input2, output2),...], # task 1\n",
    "#           [(input1, output1),(input2, output2),...], # task 2\n",
    "#           ...\n",
    "#           [(input1, output1),(input2, output2),...]], # task n\n",
    "# }"
   ]
  },
  {
   "cell_type": "code",
   "execution_count": 2,
   "metadata": {},
   "outputs": [],
   "source": [
    "# load json data\n",
    "import json\n",
    "output_path = '/home/zhenlan/Desktop/Projects/ARC2/Data/ARC-AGI-2-main/combined_data.json'\n",
    "with open(output_path, 'r') as f:\n",
    "    data = json.load(f)"
   ]
  }
 ],
 "metadata": {
  "kernelspec": {
   "display_name": "base",
   "language": "python",
   "name": "python3"
  },
  "language_info": {
   "codemirror_mode": {
    "name": "ipython",
    "version": 3
   },
   "file_extension": ".py",
   "mimetype": "text/x-python",
   "name": "python",
   "nbconvert_exporter": "python",
   "pygments_lexer": "ipython3",
   "version": "3.12.7"
  }
 },
 "nbformat": 4,
 "nbformat_minor": 2
}
